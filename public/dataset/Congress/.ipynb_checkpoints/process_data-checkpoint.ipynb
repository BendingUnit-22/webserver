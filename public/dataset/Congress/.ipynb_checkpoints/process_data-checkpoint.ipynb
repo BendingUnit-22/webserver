{
 "cells": [
  {
   "cell_type": "code",
   "execution_count": 80,
   "metadata": {
    "collapsed": false,
    "deletable": true,
    "editable": true
   },
   "outputs": [],
   "source": [
    "import json\n",
    "from itertools import groupby\n",
    "memeberList = None   \n",
    "with open(\"committee_membership.json\") as json_data:\n",
    "    memeberList =  json.load(json_data)"
   ]
  },
  {
   "cell_type": "code",
   "execution_count": 89,
   "metadata": {
    "collapsed": false,
    "deletable": true,
    "editable": true
   },
   "outputs": [
    {
     "ename": "AttributeError",
     "evalue": "'dict' object has no attribute 'name'",
     "output_type": "error",
     "traceback": [
      "\u001b[0;31m---------------------------------------------------------------------------\u001b[0m",
      "\u001b[0;31mAttributeError\u001b[0m                            Traceback (most recent call last)",
      "\u001b[0;32m<ipython-input-89-da4f4ad406b5>\u001b[0m in \u001b[0;36m<module>\u001b[0;34m()\u001b[0m\n\u001b[1;32m     22\u001b[0m             \u001b[0;32mfor\u001b[0m \u001b[0midx\u001b[0m\u001b[0;34m,\u001b[0m \u001b[0mitem\u001b[0m \u001b[0;32min\u001b[0m \u001b[0menumerate\u001b[0m\u001b[0;34m(\u001b[0m\u001b[0mmembers\u001b[0m\u001b[0;34m)\u001b[0m\u001b[0;34m:\u001b[0m\u001b[0;34m\u001b[0m\u001b[0m\n\u001b[1;32m     23\u001b[0m                 \u001b[0mobj\u001b[0m \u001b[0;34m=\u001b[0m \u001b[0;34m{\u001b[0m\u001b[0;34m}\u001b[0m\u001b[0;34m\u001b[0m\u001b[0m\n\u001b[0;32m---> 24\u001b[0;31m                 \u001b[0mobj\u001b[0m\u001b[0;34m.\u001b[0m\u001b[0mname\u001b[0m \u001b[0;34m=\u001b[0m \u001b[0mitem\u001b[0m\u001b[0;34m.\u001b[0m\u001b[0mname\u001b[0m\u001b[0;34m\u001b[0m\u001b[0m\n\u001b[0m\u001b[1;32m     25\u001b[0m                 \u001b[0mobj\u001b[0m\u001b[0;34m[\u001b[0m\u001b[0;34m'type'\u001b[0m\u001b[0;34m]\u001b[0m \u001b[0;34m=\u001b[0m \u001b[0;34m'leaf'\u001b[0m\u001b[0;34m\u001b[0m\u001b[0m\n\u001b[1;32m     26\u001b[0m                 \u001b[0mobj\u001b[0m\u001b[0;34m[\u001b[0m\u001b[0;34m'party'\u001b[0m\u001b[0;34m]\u001b[0m \u001b[0;34m=\u001b[0m \u001b[0mitem\u001b[0m\u001b[0;34m[\u001b[0m\u001b[0;34m'party'\u001b[0m\u001b[0;34m]\u001b[0m\u001b[0;34m\u001b[0m\u001b[0m\n",
      "\u001b[0;31mAttributeError\u001b[0m: 'dict' object has no attribute 'name'"
     ]
    }
   ],
   "source": [
    "\n",
    "def createNode(name, children, classT):\n",
    "    return {\"name\": name, \"type\": classT, \"children\": children}\n",
    "\n",
    "\n",
    "def searchThomas(thomas_id):\n",
    "    if thomas_id in memeberList:\n",
    "        return memeberList[thomas_id]\n",
    "    return None\n",
    "    \n",
    "    \n",
    "with open('committees.json') as json_data:\n",
    "    committees = json.load(json_data)\n",
    "    groups = groupby(committees, lambda com: (com['type']))\n",
    "    gs = []\n",
    "    for key,group in groups:\n",
    "        subComm = []\n",
    "        for comm in list(group):\n",
    "            key_for_members = comm['thomas_id']\n",
    "            members = searchThomas(key_for_members)\n",
    "            newMembers = []\n",
    "            for idx, item in enumerate(members):\n",
    "                obj = {}\n",
    "                obj['name'] = item.name\n",
    "                obj['type'] = 'leaf'\n",
    "                obj['party'] = item['party']\n",
    "                obj['rank'] = item['rank']\n",
    "                if 'thomas' in item:\n",
    "                    obj['thomas'] = item['thomas']\n",
    "    \n",
    "                \n",
    "            node = createNode(comm['name'], members, \"committee\")\n",
    "            \n",
    "            subComm.append(node)\n",
    "                \n",
    "        congressGroup = createNode(key, subComm, \"chamber\")\n",
    "        gs.append(congressGroup)\n",
    "        \n",
    "    congress = createNode(\"congress\", gs, \"root\")\n",
    "    \n",
    "    print(json.dumps(congress, sort_keys=False, indent=3))\n",
    "        "
   ]
  },
  {
   "cell_type": "code",
   "execution_count": null,
   "metadata": {
    "collapsed": true,
    "deletable": true,
    "editable": true
   },
   "outputs": [],
   "source": []
  },
  {
   "cell_type": "code",
   "execution_count": null,
   "metadata": {
    "collapsed": true,
    "deletable": true,
    "editable": true
   },
   "outputs": [],
   "source": []
  },
  {
   "cell_type": "code",
   "execution_count": null,
   "metadata": {
    "collapsed": true,
    "deletable": true,
    "editable": true
   },
   "outputs": [],
   "source": []
  }
 ],
 "metadata": {
  "kernelspec": {
   "display_name": "Python 3",
   "language": "python",
   "name": "python3"
  },
  "language_info": {
   "codemirror_mode": {
    "name": "ipython",
    "version": 3
   },
   "file_extension": ".py",
   "mimetype": "text/x-python",
   "name": "python",
   "nbconvert_exporter": "python",
   "pygments_lexer": "ipython3",
   "version": "3.6.0"
  }
 },
 "nbformat": 4,
 "nbformat_minor": 2
}
